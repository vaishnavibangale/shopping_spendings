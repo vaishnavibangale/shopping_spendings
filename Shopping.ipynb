{
 "cells": [
  {
   "cell_type": "code",
   "execution_count": 5,
   "id": "f7b55d00",
   "metadata": {},
   "outputs": [],
   "source": [
    "import pandas as pd\n",
    "import numpy as np\n",
    "\n",
    "import matplotlib.pyplot as plt\n",
    "import seaborn as sns\n",
    "\n",
    "from sklearn.linear_model import LinearRegression\n",
    "from sklearn.model_selection import train_test_split\n",
    "\n",
    "from sklearn.metrics import mean_absolute_error,r2_score,mean_squared_error\n",
    "import pickle\n",
    "import json\n",
    "\n",
    "import warnings\n",
    "warnings.filterwarnings(\"ignore\")"
   ]
  },
  {
   "cell_type": "markdown",
   "id": "41adc35e",
   "metadata": {},
   "source": [
    "### 1.Problem Statement"
   ]
  },
  {
   "cell_type": "raw",
   "id": "19979a3b",
   "metadata": {},
   "source": [
    "predict the spendings of different age groups on shopping using following parameters\n",
    "\n",
    "1. CustomerID\n",
    "2. Genre\t\n",
    "3. Age\n",
    "4. Annual Income \n",
    "5. Spending Score \n"
   ]
  },
  {
   "cell_type": "markdown",
   "id": "0e90b114",
   "metadata": {},
   "source": [
    "### 2.Data Gathering"
   ]
  },
  {
   "cell_type": "code",
   "execution_count": 6,
   "id": "e6e99126",
   "metadata": {},
   "outputs": [
    {
     "data": {
      "text/html": [
       "<div>\n",
       "<style scoped>\n",
       "    .dataframe tbody tr th:only-of-type {\n",
       "        vertical-align: middle;\n",
       "    }\n",
       "\n",
       "    .dataframe tbody tr th {\n",
       "        vertical-align: top;\n",
       "    }\n",
       "\n",
       "    .dataframe thead th {\n",
       "        text-align: right;\n",
       "    }\n",
       "</style>\n",
       "<table border=\"1\" class=\"dataframe\">\n",
       "  <thead>\n",
       "    <tr style=\"text-align: right;\">\n",
       "      <th></th>\n",
       "      <th>CustomerID</th>\n",
       "      <th>Gender</th>\n",
       "      <th>Age</th>\n",
       "      <th>Annual_Income ($)</th>\n",
       "      <th>Spending Score</th>\n",
       "    </tr>\n",
       "  </thead>\n",
       "  <tbody>\n",
       "    <tr>\n",
       "      <th>0</th>\n",
       "      <td>1</td>\n",
       "      <td>Male</td>\n",
       "      <td>19</td>\n",
       "      <td>15</td>\n",
       "      <td>39</td>\n",
       "    </tr>\n",
       "    <tr>\n",
       "      <th>1</th>\n",
       "      <td>2</td>\n",
       "      <td>Male</td>\n",
       "      <td>21</td>\n",
       "      <td>15</td>\n",
       "      <td>81</td>\n",
       "    </tr>\n",
       "    <tr>\n",
       "      <th>2</th>\n",
       "      <td>3</td>\n",
       "      <td>Female</td>\n",
       "      <td>20</td>\n",
       "      <td>16</td>\n",
       "      <td>6</td>\n",
       "    </tr>\n",
       "    <tr>\n",
       "      <th>3</th>\n",
       "      <td>4</td>\n",
       "      <td>Female</td>\n",
       "      <td>23</td>\n",
       "      <td>16</td>\n",
       "      <td>77</td>\n",
       "    </tr>\n",
       "    <tr>\n",
       "      <th>4</th>\n",
       "      <td>5</td>\n",
       "      <td>Female</td>\n",
       "      <td>31</td>\n",
       "      <td>17</td>\n",
       "      <td>40</td>\n",
       "    </tr>\n",
       "    <tr>\n",
       "      <th>...</th>\n",
       "      <td>...</td>\n",
       "      <td>...</td>\n",
       "      <td>...</td>\n",
       "      <td>...</td>\n",
       "      <td>...</td>\n",
       "    </tr>\n",
       "    <tr>\n",
       "      <th>195</th>\n",
       "      <td>196</td>\n",
       "      <td>Female</td>\n",
       "      <td>35</td>\n",
       "      <td>120</td>\n",
       "      <td>79</td>\n",
       "    </tr>\n",
       "    <tr>\n",
       "      <th>196</th>\n",
       "      <td>197</td>\n",
       "      <td>Female</td>\n",
       "      <td>45</td>\n",
       "      <td>126</td>\n",
       "      <td>28</td>\n",
       "    </tr>\n",
       "    <tr>\n",
       "      <th>197</th>\n",
       "      <td>198</td>\n",
       "      <td>Male</td>\n",
       "      <td>32</td>\n",
       "      <td>126</td>\n",
       "      <td>74</td>\n",
       "    </tr>\n",
       "    <tr>\n",
       "      <th>198</th>\n",
       "      <td>199</td>\n",
       "      <td>Male</td>\n",
       "      <td>32</td>\n",
       "      <td>137</td>\n",
       "      <td>18</td>\n",
       "    </tr>\n",
       "    <tr>\n",
       "      <th>199</th>\n",
       "      <td>200</td>\n",
       "      <td>Male</td>\n",
       "      <td>30</td>\n",
       "      <td>137</td>\n",
       "      <td>83</td>\n",
       "    </tr>\n",
       "  </tbody>\n",
       "</table>\n",
       "<p>200 rows × 5 columns</p>\n",
       "</div>"
      ],
      "text/plain": [
       "     CustomerID  Gender  Age  Annual_Income ($)  Spending Score \n",
       "0             1    Male   19                 15               39\n",
       "1             2    Male   21                 15               81\n",
       "2             3  Female   20                 16                6\n",
       "3             4  Female   23                 16               77\n",
       "4             5  Female   31                 17               40\n",
       "..          ...     ...  ...                ...              ...\n",
       "195         196  Female   35                120               79\n",
       "196         197  Female   45                126               28\n",
       "197         198    Male   32                126               74\n",
       "198         199    Male   32                137               18\n",
       "199         200    Male   30                137               83\n",
       "\n",
       "[200 rows x 5 columns]"
      ]
     },
     "execution_count": 6,
     "metadata": {},
     "output_type": "execute_result"
    }
   ],
   "source": [
    "df = pd.read_csv(\"shopping_data.csv\")\n",
    "df"
   ]
  },
  {
   "cell_type": "markdown",
   "id": "85a256e3",
   "metadata": {},
   "source": [
    "### 3.Exploratory Data Analysis(EDA)"
   ]
  },
  {
   "cell_type": "code",
   "execution_count": 7,
   "id": "eebeac95",
   "metadata": {},
   "outputs": [
    {
     "name": "stdout",
     "output_type": "stream",
     "text": [
      "<class 'pandas.core.frame.DataFrame'>\n",
      "RangeIndex: 200 entries, 0 to 199\n",
      "Data columns (total 5 columns):\n",
      " #   Column             Non-Null Count  Dtype \n",
      "---  ------             --------------  ----- \n",
      " 0   CustomerID         200 non-null    int64 \n",
      " 1   Gender             200 non-null    object\n",
      " 2   Age                200 non-null    int64 \n",
      " 3   Annual_Income ($)  200 non-null    int64 \n",
      " 4   Spending Score     200 non-null    int64 \n",
      "dtypes: int64(4), object(1)\n",
      "memory usage: 7.9+ KB\n",
      "<class 'pandas.core.frame.DataFrame'>\n",
      "RangeIndex: 200 entries, 0 to 199\n",
      "Data columns (total 5 columns):\n",
      " #   Column             Non-Null Count  Dtype \n",
      "---  ------             --------------  ----- \n",
      " 0   CustomerID         200 non-null    int64 \n",
      " 1   Gender             200 non-null    object\n",
      " 2   Age                200 non-null    int64 \n",
      " 3   Annual_Income ($)  200 non-null    int64 \n",
      " 4   Spending Score     200 non-null    int64 \n",
      "dtypes: int64(4), object(1)\n",
      "memory usage: 7.9+ KB\n"
     ]
    }
   ],
   "source": [
    "df.info()"
   ]
  },
  {
   "cell_type": "markdown",
   "id": "1c1d70dd",
   "metadata": {},
   "source": [
    "### 4. Feature Engineering"
   ]
  },
  {
   "cell_type": "raw",
   "id": "7b56d405",
   "metadata": {},
   "source": [
    "Encoding:\n",
    "    Label "
   ]
  },
  {
   "cell_type": "markdown",
   "id": "21afd033",
   "metadata": {},
   "source": [
    "#### 1.Gender"
   ]
  },
  {
   "cell_type": "code",
   "execution_count": null,
   "id": "ae90e195",
   "metadata": {},
   "outputs": [],
   "source": [
    "df['Gender']"
   ]
  },
  {
   "cell_type": "code",
   "execution_count": null,
   "id": "b6bb81ea",
   "metadata": {},
   "outputs": [],
   "source": [
    "df['Gender'].value_counts()"
   ]
  },
  {
   "cell_type": "code",
   "execution_count": 10,
   "id": "e48f77c1",
   "metadata": {},
   "outputs": [],
   "source": [
    "df['Gender'].replace({'Male':1, 'Female':0},inplace = True)"
   ]
  },
  {
   "cell_type": "code",
   "execution_count": 11,
   "id": "07bfa110",
   "metadata": {},
   "outputs": [],
   "source": [
    "Gender_data= {'male':1, 'female':0}"
   ]
  },
  {
   "cell_type": "code",
   "execution_count": 12,
   "id": "33345404",
   "metadata": {},
   "outputs": [
    {
     "name": "stdout",
     "output_type": "stream",
     "text": [
      "<class 'pandas.core.frame.DataFrame'>\n",
      "RangeIndex: 200 entries, 0 to 199\n",
      "Data columns (total 5 columns):\n",
      " #   Column             Non-Null Count  Dtype\n",
      "---  ------             --------------  -----\n",
      " 0   CustomerID         200 non-null    int64\n",
      " 1   Gender             200 non-null    int64\n",
      " 2   Age                200 non-null    int64\n",
      " 3   Annual_Income ($)  200 non-null    int64\n",
      " 4   Spending Score     200 non-null    int64\n",
      "dtypes: int64(5)\n",
      "memory usage: 7.9 KB\n"
     ]
    }
   ],
   "source": [
    "df.info()"
   ]
  },
  {
   "cell_type": "markdown",
   "id": "9373405e",
   "metadata": {},
   "source": [
    "### 5. Feature Selection/Extraction"
   ]
  },
  {
   "cell_type": "raw",
   "id": "7c19beef",
   "metadata": {},
   "source": [
    "Feature Selection >> Best set of feature\n",
    "1. Filter Method:(Before model training)\n",
    "    1. Linearity\n",
    "    2. VIF\n",
    "    \n",
    "2. Wrapper Method(At the time of model training)\n",
    "3. Embedded Method(After model training)"
   ]
  },
  {
   "cell_type": "markdown",
   "id": "5c8bfbfa",
   "metadata": {},
   "source": [
    "##### 1.Linearity"
   ]
  },
  {
   "cell_type": "code",
   "execution_count": 29,
   "id": "b46cc6d4",
   "metadata": {},
   "outputs": [
    {
     "data": {
      "text/html": [
       "<div>\n",
       "<style scoped>\n",
       "    .dataframe tbody tr th:only-of-type {\n",
       "        vertical-align: middle;\n",
       "    }\n",
       "\n",
       "    .dataframe tbody tr th {\n",
       "        vertical-align: top;\n",
       "    }\n",
       "\n",
       "    .dataframe thead th {\n",
       "        text-align: right;\n",
       "    }\n",
       "</style>\n",
       "<table border=\"1\" class=\"dataframe\">\n",
       "  <thead>\n",
       "    <tr style=\"text-align: right;\">\n",
       "      <th></th>\n",
       "      <th>CustomerID</th>\n",
       "      <th>Gender</th>\n",
       "      <th>Age</th>\n",
       "      <th>Annual_Income ($)</th>\n",
       "      <th>Spending Score</th>\n",
       "    </tr>\n",
       "  </thead>\n",
       "  <tbody>\n",
       "    <tr>\n",
       "      <th>CustomerID</th>\n",
       "      <td>1.000000</td>\n",
       "      <td>0.057400</td>\n",
       "      <td>-0.026763</td>\n",
       "      <td>0.977548</td>\n",
       "      <td>-0.073719</td>\n",
       "    </tr>\n",
       "    <tr>\n",
       "      <th>Gender</th>\n",
       "      <td>0.057400</td>\n",
       "      <td>1.000000</td>\n",
       "      <td>0.060867</td>\n",
       "      <td>0.056410</td>\n",
       "      <td>-0.051640</td>\n",
       "    </tr>\n",
       "    <tr>\n",
       "      <th>Age</th>\n",
       "      <td>-0.026763</td>\n",
       "      <td>0.060867</td>\n",
       "      <td>1.000000</td>\n",
       "      <td>-0.012398</td>\n",
       "      <td>-0.280943</td>\n",
       "    </tr>\n",
       "    <tr>\n",
       "      <th>Annual_Income ($)</th>\n",
       "      <td>0.977548</td>\n",
       "      <td>0.056410</td>\n",
       "      <td>-0.012398</td>\n",
       "      <td>1.000000</td>\n",
       "      <td>-0.078826</td>\n",
       "    </tr>\n",
       "    <tr>\n",
       "      <th>Spending Score</th>\n",
       "      <td>-0.073719</td>\n",
       "      <td>-0.051640</td>\n",
       "      <td>-0.280943</td>\n",
       "      <td>-0.078826</td>\n",
       "      <td>1.000000</td>\n",
       "    </tr>\n",
       "  </tbody>\n",
       "</table>\n",
       "</div>"
      ],
      "text/plain": [
       "                   CustomerID    Gender       Age  Annual_Income ($)   \n",
       "CustomerID           1.000000  0.057400 -0.026763           0.977548  \\\n",
       "Gender               0.057400  1.000000  0.060867           0.056410   \n",
       "Age                 -0.026763  0.060867  1.000000          -0.012398   \n",
       "Annual_Income ($)    0.977548  0.056410 -0.012398           1.000000   \n",
       "Spending Score      -0.073719 -0.051640 -0.280943          -0.078826   \n",
       "\n",
       "                   Spending Score   \n",
       "CustomerID               -0.073719  \n",
       "Gender                   -0.051640  \n",
       "Age                      -0.280943  \n",
       "Annual_Income ($)        -0.078826  \n",
       "Spending Score            1.000000  "
      ]
     },
     "execution_count": 29,
     "metadata": {},
     "output_type": "execute_result"
    }
   ],
   "source": [
    "df.corr()"
   ]
  },
  {
   "cell_type": "code",
   "execution_count": 14,
   "id": "36467f7d",
   "metadata": {},
   "outputs": [
    {
     "data": {
      "text/plain": [
       "<Axes: >"
      ]
     },
     "execution_count": 14,
     "metadata": {},
     "output_type": "execute_result"
    },
    {
     "data": {
      "image/png": "[encoded data removed]",
      "text/plain": [
       "<Figure size 2000x200 with 2 Axes>"
      ]
     },
     "metadata": {},
     "output_type": "display_data"
    }
   ],
   "source": [
    "plt.figure(figsize = (20,2))\n",
    "sns.heatmap(df.corr().tail(1), annot = True)"
   ]
  },
  {
   "cell_type": "markdown",
   "id": "e3c86e47",
   "metadata": {},
   "source": [
    "### Model Training"
   ]
  },
  {
   "cell_type": "code",
   "execution_count": 15,
   "id": "34865ad1",
   "metadata": {},
   "outputs": [],
   "source": [
    "x = df.drop('Spending Score ', axis = 1)\n",
    "y = df['Spending Score ']\n",
    "x_train, x_test, y_train, y_test = train_test_split(x,y,test_size=0.2, random_state=0)"
   ]
  },
  {
   "cell_type": "code",
   "execution_count": 16,
   "id": "9922ddab",
   "metadata": {},
   "outputs": [
    {
     "data": {
      "text/html": [
       "<style>#sk-container-id-1 {color: black;background-color: white;}#sk-container-id-1 pre{padding: 0;}#sk-container-id-1 div.sk-toggleable {background-color: white;}#sk-container-id-1 label.sk-toggleable__label {cursor: pointer;display: block;width: 100%;margin-bottom: 0;padding: 0.3em;box-sizing: border-box;text-align: center;}#sk-container-id-1 label.sk-toggleable__label-arrow:before {content: \"▸\";float: left;margin-right: 0.25em;color: #696969;}#sk-container-id-1 label.sk-toggleable__label-arrow:hover:before {color: black;}#sk-container-id-1 div.sk-estimator:hover label.sk-toggleable__label-arrow:before {color: black;}#sk-container-id-1 div.sk-toggleable__content {max-height: 0;max-width: 0;overflow: hidden;text-align: left;background-color: #f0f8ff;}#sk-container-id-1 div.sk-toggleable__content pre {margin: 0.2em;color: black;border-radius: 0.25em;background-color: #f0f8ff;}#sk-container-id-1 input.sk-toggleable__control:checked~div.sk-toggleable__content {max-height: 200px;max-width: 100%;overflow: auto;}#sk-container-id-1 input.sk-toggleable__control:checked~label.sk-toggleable__label-arrow:before {content: \"▾\";}#sk-container-id-1 div.sk-estimator input.sk-toggleable__control:checked~label.sk-toggleable__label {background-color: #d4ebff;}#sk-container-id-1 div.sk-label input.sk-toggleable__control:checked~label.sk-toggleable__label {background-color: #d4ebff;}#sk-container-id-1 input.sk-hidden--visually {border: 0;clip: rect(1px 1px 1px 1px);clip: rect(1px, 1px, 1px, 1px);height: 1px;margin: -1px;overflow: hidden;padding: 0;position: absolute;width: 1px;}#sk-container-id-1 div.sk-estimator {font-family: monospace;background-color: #f0f8ff;border: 1px dotted black;border-radius: 0.25em;box-sizing: border-box;margin-bottom: 0.5em;}#sk-container-id-1 div.sk-estimator:hover {background-color: #d4ebff;}#sk-container-id-1 div.sk-parallel-item::after {content: \"\";width: 100%;border-bottom: 1px solid gray;flex-grow: 1;}#sk-container-id-1 div.sk-label:hover label.sk-toggleable__label {background-color: #d4ebff;}#sk-container-id-1 div.sk-serial::before {content: \"\";position: absolute;border-left: 1px solid gray;box-sizing: border-box;top: 0;bottom: 0;left: 50%;z-index: 0;}#sk-container-id-1 div.sk-serial {display: flex;flex-direction: column;align-items: center;background-color: white;padding-right: 0.2em;padding-left: 0.2em;position: relative;}#sk-container-id-1 div.sk-item {position: relative;z-index: 1;}#sk-container-id-1 div.sk-parallel {display: flex;align-items: stretch;justify-content: center;background-color: white;position: relative;}#sk-container-id-1 div.sk-item::before, #sk-container-id-1 div.sk-parallel-item::before {content: \"\";position: absolute;border-left: 1px solid gray;box-sizing: border-box;top: 0;bottom: 0;left: 50%;z-index: -1;}#sk-container-id-1 div.sk-parallel-item {display: flex;flex-direction: column;z-index: 1;position: relative;background-color: white;}#sk-container-id-1 div.sk-parallel-item:first-child::after {align-self: flex-end;width: 50%;}#sk-container-id-1 div.sk-parallel-item:last-child::after {align-self: flex-start;width: 50%;}#sk-container-id-1 div.sk-parallel-item:only-child::after {width: 0;}#sk-container-id-1 div.sk-dashed-wrapped {border: 1px dashed gray;margin: 0 0.4em 0.5em 0.4em;box-sizing: border-box;padding-bottom: 0.4em;background-color: white;}#sk-container-id-1 div.sk-label label {font-family: monospace;font-weight: bold;display: inline-block;line-height: 1.2em;}#sk-container-id-1 div.sk-label-container {text-align: center;}#sk-container-id-1 div.sk-container {/* jupyter's `normalize.less` sets `[hidden] { display: none; }` but bootstrap.min.css set `[hidden] { display: none !important; }` so we also need the `!important` here to be able to override the default hidden behavior on the sphinx rendered scikit-learn.org. See: https://github.com/scikit-learn/scikit-learn/issues/21755 */display: inline-block !important;position: relative;}#sk-container-id-1 div.sk-text-repr-fallback {display: none;}</style><div id=\"sk-container-id-1\" class=\"sk-top-container\"><div class=\"sk-text-repr-fallback\"><pre>LinearRegression()</pre><b>In a Jupyter environment, please rerun this cell to show the HTML representation or trust the notebook. <br />On GitHub, the HTML representation is unable to render, please try loading this page with nbviewer.org.</b></div><div class=\"sk-container\" hidden><div class=\"sk-item\"><div class=\"sk-estimator sk-toggleable\"><input class=\"sk-toggleable__control sk-hidden--visually\" id=\"sk-estimator-id-1\" type=\"checkbox\" checked><label for=\"sk-estimator-id-1\" class=\"sk-toggleable__label sk-toggleable__label-arrow\">LinearRegression</label><div class=\"sk-toggleable__content\"><pre>LinearRegression()</pre></div></div></div></div></div>"
      ],
      "text/plain": [
       "LinearRegression()"
      ]
     },
     "execution_count": 16,
     "metadata": {},
     "output_type": "execute_result"
    }
   ],
   "source": [
    "linear_reg = LinearRegression()\n",
    "linear_reg.fit(x_train, y_train)"
   ]
  },
  {
   "cell_type": "markdown",
   "id": "18dac172",
   "metadata": {},
   "source": [
    "### Evaluation"
   ]
  },
  {
   "cell_type": "code",
   "execution_count": 17,
   "id": "05a57221",
   "metadata": {},
   "outputs": [
    {
     "name": "stdout",
     "output_type": "stream",
     "text": [
      "RMSE : 25.58802804661292\n",
      "MAE : 21.894882573004356\n",
      "R-Squared : 0.11714819189653913\n"
     ]
    }
   ],
   "source": [
    "y_pred = linear_reg.predict(x_test)\n",
    "\n",
    "mse = mean_squared_error(y_test, y_pred)\n",
    "rmse = np.sqrt(mse)\n",
    "\n",
    "print(\"RMSE :\",rmse)\n",
    "\n",
    "mae = mean_absolute_error(y_test, y_pred)\n",
    "print(\"MAE :\",mae)\n",
    "\n",
    "r2_value = r2_score(y_test, y_pred)\n",
    "print(\"R-Squared :\",r2_value)"
   ]
  },
  {
   "cell_type": "code",
   "execution_count": 28,
   "id": "06aa6a2e",
   "metadata": {},
   "outputs": [
    {
     "name": "stdout",
     "output_type": "stream",
     "text": [
      "RMSE : 23.817573925723394\n",
      "MAE : 19.367702029415646\n",
      "R-Squared : 0.06632240974155534\n"
     ]
    }
   ],
   "source": [
    "y_pred_train = linear_reg.predict(x_train)\n",
    "\n",
    "mse = mean_squared_error(y_train, y_pred_train)\n",
    "rmse = np.sqrt(mse)\n",
    "\n",
    "print(\"RMSE :\",rmse)\n",
    "\n",
    "mae = mean_absolute_error(y_train, y_pred_train)\n",
    "print(\"MAE :\",mae)\n",
    "\n",
    "r2_value = r2_score(y_train, y_pred_train )\n",
    "print(\"R-Squared :\",r2_value)"
   ]
  },
  {
   "cell_type": "markdown",
   "id": "9709730a",
   "metadata": {},
   "source": [
    "#### Single Row Testing"
   ]
  },
  {
   "cell_type": "code",
   "execution_count": 27,
   "id": "fe4aafae",
   "metadata": {},
   "outputs": [
    {
     "data": {
      "text/html": [
       "<div>\n",
       "<style scoped>\n",
       "    .dataframe tbody tr th:only-of-type {\n",
       "        vertical-align: middle;\n",
       "    }\n",
       "\n",
       "    .dataframe tbody tr th {\n",
       "        vertical-align: top;\n",
       "    }\n",
       "\n",
       "    .dataframe thead th {\n",
       "        text-align: right;\n",
       "    }\n",
       "</style>\n",
       "<table border=\"1\" class=\"dataframe\">\n",
       "  <thead>\n",
       "    <tr style=\"text-align: right;\">\n",
       "      <th></th>\n",
       "      <th>CustomerID</th>\n",
       "      <th>Gender</th>\n",
       "      <th>Age</th>\n",
       "      <th>Annual_Income ($)</th>\n",
       "    </tr>\n",
       "  </thead>\n",
       "  <tbody>\n",
       "    <tr>\n",
       "      <th>182</th>\n",
       "      <td>183</td>\n",
       "      <td>1</td>\n",
       "      <td>46</td>\n",
       "      <td>98</td>\n",
       "    </tr>\n",
       "  </tbody>\n",
       "</table>\n",
       "</div>"
      ],
      "text/plain": [
       "     CustomerID  Gender  Age  Annual_Income ($)\n",
       "182         183       1   46                 98"
      ]
     },
     "execution_count": 27,
     "metadata": {},
     "output_type": "execute_result"
    }
   ],
   "source": [
    "x_test[5:6]"
   ]
  },
  {
   "cell_type": "code",
   "execution_count": 20,
   "id": "b5179dbb",
   "metadata": {},
   "outputs": [
    {
     "data": {
      "text/plain": [
       "43.14910280592107"
      ]
     },
     "execution_count": 20,
     "metadata": {},
     "output_type": "execute_result"
    }
   ],
   "source": [
    "linear_reg.predict(x_test[5:6])[0]"
   ]
  },
  {
   "cell_type": "raw",
   "id": "392a5821",
   "metadata": {},
   "source": [
    "CustomerID=10\n",
    "Gender='male'\n",
    "Age=20\n",
    "Annual_Income = 25                        "
   ]
  },
  {
   "cell_type": "code",
   "execution_count": 21,
   "id": "52f163dc",
   "metadata": {},
   "outputs": [
    {
     "data": {
      "text/plain": [
       "['CustomerID', 'Gender', 'Age', 'Annual_Income ($)']"
      ]
     },
     "execution_count": 21,
     "metadata": {},
     "output_type": "execute_result"
    }
   ],
   "source": [
    "column_names = x.columns.tolist()\n",
    "column_names"
   ]
  },
  {
   "cell_type": "code",
   "execution_count": 22,
   "id": "307720f3",
   "metadata": {},
   "outputs": [
    {
     "data": {
      "text/plain": [
       "4"
      ]
     },
     "execution_count": 22,
     "metadata": {},
     "output_type": "execute_result"
    }
   ],
   "source": [
    "x.shape[1]"
   ]
  },
  {
   "cell_type": "code",
   "execution_count": 23,
   "id": "24778652",
   "metadata": {},
   "outputs": [],
   "source": [
    "CustomerID=10\n",
    "Gender='male'\n",
    "Age=20\n",
    "Annual_Income = 25    \n",
    "\n",
    "Gender=Gender_data[Gender]\n",
    "test_array = np.zeros([1,linear_reg.n_features_in_])\n",
    "test_array[0,0] = CustomerID\n",
    "test_array[0,1] = Gender\n",
    "test_array[0,2] =Age\n",
    "test_array[0,3] = Annual_Income\n",
    "\n",
    "\n",
    "predict_spendings=np.around(linear_reg.predict(test_array)[0],3)"
   ]
  },
  {
   "cell_type": "code",
   "execution_count": 24,
   "id": "8fe0344b",
   "metadata": {},
   "outputs": [],
   "source": [
    "with open('linear_regression.pkl','wb') as f:\n",
    "    pickle.dump(linear_reg, f)"
   ]
  },
  {
   "cell_type": "code",
   "execution_count": 25,
   "id": "dfba9a6b",
   "metadata": {},
   "outputs": [],
   "source": [
    "project_data = {\"Gender\": Gender_data,\n",
    "               \n",
    "               \"Column Names\" : column_names}\n",
    "\n",
    "with open('proj_data.json','w') as f:\n",
    "    json.dump(project_data, f)"
   ]
  },
  {
   "cell_type": "code",
   "execution_count": null,
   "id": "9abf4cbd",
   "metadata": {},
   "outputs": [],
   "source": []
  }
 ],
 "metadata": {
  "kernelspec": {
   "display_name": "Python 3 (ipykernel)",
   "language": "python",
   "name": "python3"
  },
  "language_info": {
   "codemirror_mode": {
    "name": "ipython",
    "version": 3
   },
   "file_extension": ".py",
   "mimetype": "text/x-python",
   "name": "python",
   "nbconvert_exporter": "python",
   "pygments_lexer": "ipython3",
   "version": "3.10.7"
  }
 },
 "nbformat": 4,
 "nbformat_minor": 5
}
